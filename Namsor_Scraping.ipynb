{
  "nbformat": 4,
  "nbformat_minor": 0,
  "metadata": {
    "colab": {
      "name": "Namsor Scraping.ipynb",
      "version": "0.3.2",
      "provenance": [],
      "collapsed_sections": [],
      "include_colab_link": true
    },
    "kernelspec": {
      "name": "python3",
      "display_name": "Python 3"
    }
  },
  "cells": [
    {
      "cell_type": "markdown",
      "metadata": {
        "id": "view-in-github",
        "colab_type": "text"
      },
      "source": [
        "<a href=\"https://colab.research.google.com/github/edeediong/Methodical/blob/master/Namsor_Scraping.ipynb\" target=\"_parent\"><img src=\"https://colab.research.google.com/assets/colab-badge.svg\" alt=\"Open In Colab\"/></a>"
      ]
    },
    {
      "cell_type": "code",
      "metadata": {
        "id": "dPYgU8nBZghX",
        "colab_type": "code",
        "outputId": "4b5186cd-bec1-47d8-f6b2-77e7e1baf9c7",
        "colab": {
          "base_uri": "https://localhost:8080/",
          "height": 238
        }
      },
      "source": [
        "!pip install git+https://github.com/namsor/namsor-python-sdk2.git"
      ],
      "execution_count": 1,
      "outputs": [
        {
          "output_type": "stream",
          "text": [
            "Collecting git+https://github.com/namsor/namsor-python-sdk2.git\n",
            "  Cloning https://github.com/namsor/namsor-python-sdk2.git to /tmp/pip-req-build-oqr06b0e\n",
            "  Running command git clone -q https://github.com/namsor/namsor-python-sdk2.git /tmp/pip-req-build-oqr06b0e\n",
            "Requirement already satisfied: urllib3>=1.15 in /usr/local/lib/python3.6/dist-packages (from openapi-client==1.0.0) (1.24.3)\n",
            "Requirement already satisfied: six>=1.10 in /usr/local/lib/python3.6/dist-packages (from openapi-client==1.0.0) (1.12.0)\n",
            "Requirement already satisfied: certifi in /usr/local/lib/python3.6/dist-packages (from openapi-client==1.0.0) (2019.6.16)\n",
            "Requirement already satisfied: python-dateutil in /usr/local/lib/python3.6/dist-packages (from openapi-client==1.0.0) (2.5.3)\n",
            "Building wheels for collected packages: openapi-client\n",
            "  Building wheel for openapi-client (setup.py) ... \u001b[?25l\u001b[?25hdone\n",
            "  Stored in directory: /tmp/pip-ephem-wheel-cache-zesm15x5/wheels/69/ad/18/43c9ebd234ed5fade0144a9b9a4775487eaa4c83c3b9ce1962\n",
            "Successfully built openapi-client\n",
            "Installing collected packages: openapi-client\n",
            "Successfully installed openapi-client-1.0.0\n"
          ],
          "name": "stdout"
        }
      ]
    },
    {
      "cell_type": "code",
      "metadata": {
        "id": "C6iGUbkic8ba",
        "colab_type": "code",
        "colab": {}
      },
      "source": [
        "from __future__ import print_function\n",
        "import time\n",
        "import openapi_client\n",
        "from openapi_client.rest import ApiException\n",
        "from pprint import pprint\n",
        "import pandas as pd\n",
        "from roland import convert\n",
        "\n",
        "#Configure API key authorization: api_key\n",
        "configuration = openapi_client.Configuration()\n",
        "configuration.api_key['X-API-KEY'] = '700fb6048df2d5d57462745209390b6b'"
      ],
      "execution_count": 0,
      "outputs": []
    },
    {
      "cell_type": "code",
      "metadata": {
        "id": "jdY6gdvAk01s",
        "colab_type": "code",
        "colab": {}
      },
      "source": [
        "df = pd.read_excel('professors.xlsx')"
      ],
      "execution_count": 0,
      "outputs": []
    },
    {
      "cell_type": "code",
      "metadata": {
        "id": "2JeU4GGfgmXM",
        "colab_type": "code",
        "colab": {}
      },
      "source": [
        "list1 = df['name'].values.tolist()"
      ],
      "execution_count": 0,
      "outputs": []
    },
    {
      "cell_type": "code",
      "metadata": {
        "id": "VT0atJlRfoaq",
        "colab_type": "code",
        "colab": {}
      },
      "source": [
        "gender = []\n",
        "origin = []"
      ],
      "execution_count": 0,
      "outputs": []
    },
    {
      "cell_type": "code",
      "metadata": {
        "id": "zeKIxjGjkdbp",
        "colab_type": "code",
        "colab": {}
      },
      "source": [
        "for i in list1:\n",
        "  # create an instance of the api class\n",
        "  api_instance = openapi_client.PersonalApi(openapi_client.ApiClient(configuration))\n",
        "  personal_name = openapi_client.BatchPersonalNameIn([{\"name\": i}])\n",
        "  \n",
        "  try:\n",
        "    # Add usage credits to an API Key.\n",
        "    api_response = api_instance.gender_full_batch(batch_personal_name_in=personal_name)\n",
        "    api_responses = api_instance.country_batch(batch_personal_name_in = personal_name)\n",
        "    gender.append(api_response)\n",
        "    origin.append(api_responses)\n",
        "  except ApiException as e:\n",
        "    print(\"Exception when calling PersonalApi->add_credits: %s\\n\" % e)\n",
        "  "
      ],
      "execution_count": 0,
      "outputs": []
    },
    {
      "cell_type": "code",
      "metadata": {
        "id": "JTB5GVR9RWXg",
        "colab_type": "code",
        "colab": {
          "base_uri": "https://localhost:8080/",
          "height": 34
        },
        "outputId": "006be208-07fd-4b3d-f218-fc197e0a455b"
      },
      "source": [
        "len(gender)"
      ],
      "execution_count": 6,
      "outputs": [
        {
          "output_type": "execute_result",
          "data": {
            "text/plain": [
              "5283"
            ]
          },
          "metadata": {
            "tags": []
          },
          "execution_count": 6
        }
      ]
    },
    {
      "cell_type": "code",
      "metadata": {
        "id": "ur0Ou5g_ZEjS",
        "colab_type": "code",
        "colab": {}
      },
      "source": [
        "df['gender_details'] = pd.Series(gender)\n",
        "df['origin_details'] = pd.Series(origin)"
      ],
      "execution_count": 0,
      "outputs": []
    },
    {
      "cell_type": "code",
      "metadata": {
        "id": "wMtJPDnCyJj2",
        "colab_type": "code",
        "colab": {}
      },
      "source": [
        "df.to_excel('professors.xlsx')"
      ],
      "execution_count": 0,
      "outputs": []
    },
    {
      "cell_type": "code",
      "metadata": {
        "id": "ss1yno1-37BZ",
        "colab_type": "code",
        "colab": {}
      },
      "source": [
        "df = pd.read_excel('professors.xlsx')"
      ],
      "execution_count": 0,
      "outputs": []
    },
    {
      "cell_type": "code",
      "metadata": {
        "id": "eKyu2w1w8R3l",
        "colab_type": "code",
        "colab": {}
      },
      "source": [
        "gender_list = []\n",
        "country_list = []\n",
        "country_alt_list = []"
      ],
      "execution_count": 0,
      "outputs": []
    },
    {
      "cell_type": "code",
      "metadata": {
        "id": "84L4w5yfosjw",
        "colab_type": "code",
        "colab": {}
      },
      "source": [
        "for i in df['gender_details']:\n",
        "  i = convert(i)['personal_names'][0]['likely_gender']\n",
        "  gender_list.append(i)"
      ],
      "execution_count": 0,
      "outputs": []
    },
    {
      "cell_type": "code",
      "metadata": {
        "id": "e5tUBQG58Xf6",
        "colab_type": "code",
        "colab": {}
      },
      "source": [
        "for i in df['origin_details']:\n",
        "  i = convert(i)['personal_names'][0]\n",
        "  cty = i['country']\n",
        "  cty_alt = i['country_alt']\n",
        "  country_list.append(cty)\n",
        "  country_alt_list.append(cty_alt)"
      ],
      "execution_count": 0,
      "outputs": []
    },
    {
      "cell_type": "code",
      "metadata": {
        "id": "DZz_zNF-_7Xj",
        "colab_type": "code",
        "colab": {}
      },
      "source": [
        "df['likely_gender'] = pd.Series(gender_list)\n",
        "df['likely_country'] = pd.Series(country_list)\n",
        "df['likely_country_alt'] = pd.Series(country_alt_list)"
      ],
      "execution_count": 0,
      "outputs": []
    },
    {
      "cell_type": "code",
      "metadata": {
        "id": "Zv7Jhv9squGn",
        "colab_type": "code",
        "colab": {}
      },
      "source": [
        "del df['gender_details']\n",
        "del df['origin_details']"
      ],
      "execution_count": 0,
      "outputs": []
    },
    {
      "cell_type": "code",
      "metadata": {
        "id": "tOmTGG3YxTLJ",
        "colab_type": "code",
        "colab": {}
      },
      "source": [
        "df.to_csv('professor.csv')"
      ],
      "execution_count": 0,
      "outputs": []
    }
  ]
}