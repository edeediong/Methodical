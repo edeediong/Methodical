{
  "nbformat": 4,
  "nbformat_minor": 0,
  "metadata": {
    "colab": {
      "name": "Details Extract.ipynb",
      "version": "0.3.2",
      "provenance": [],
      "collapsed_sections": []
    },
    "kernelspec": {
      "name": "python3",
      "display_name": "Python 3"
    }
  },
  "cells": [
    {
      "cell_type": "code",
      "metadata": {
        "id": "WPLRULC0nonj",
        "colab_type": "code",
        "outputId": "35ad61a8-c82a-4546-a02a-d5d6bcb79647",
        "colab": {
          "base_uri": "https://localhost:8080/",
          "height": 247
        }
      },
      "source": [
        "!pip install googlemaps"
      ],
      "execution_count": 0,
      "outputs": [
        {
          "output_type": "stream",
          "text": [
            "Collecting googlemaps\n",
            "  Downloading https://files.pythonhosted.org/packages/5a/3d/13b4230f3c1b8a586cdc8d8179f3c6af771c11247f8de9c166d1ab37f51d/googlemaps-3.0.2.tar.gz\n",
            "Requirement already satisfied: requests<3.0,>=2.11.1 in /usr/local/lib/python3.6/dist-packages (from googlemaps) (2.21.0)\n",
            "Requirement already satisfied: certifi>=2017.4.17 in /usr/local/lib/python3.6/dist-packages (from requests<3.0,>=2.11.1->googlemaps) (2019.6.16)\n",
            "Requirement already satisfied: urllib3<1.25,>=1.21.1 in /usr/local/lib/python3.6/dist-packages (from requests<3.0,>=2.11.1->googlemaps) (1.24.3)\n",
            "Requirement already satisfied: idna<2.9,>=2.5 in /usr/local/lib/python3.6/dist-packages (from requests<3.0,>=2.11.1->googlemaps) (2.8)\n",
            "Requirement already satisfied: chardet<3.1.0,>=3.0.2 in /usr/local/lib/python3.6/dist-packages (from requests<3.0,>=2.11.1->googlemaps) (3.0.4)\n",
            "Building wheels for collected packages: googlemaps\n",
            "  Building wheel for googlemaps (setup.py) ... \u001b[?25l\u001b[?25hdone\n",
            "  Stored in directory: /root/.cache/pip/wheels/3c/3f/25/ce6d7722dba07e5d4a12d27ab38f3d7add65ef43171b02c819\n",
            "Successfully built googlemaps\n",
            "Installing collected packages: googlemaps\n",
            "Successfully installed googlemaps-3.0.2\n"
          ],
          "name": "stdout"
        }
      ]
    },
    {
      "cell_type": "code",
      "metadata": {
        "id": "7qr6f-gNiGG5",
        "colab_type": "code",
        "colab": {}
      },
      "source": [
        "# import necessary libraries\n",
        "\n",
        "import googlemaps\n",
        "import time\n",
        "import pandas as pd\n",
        "from roland import api,convert\n"
      ],
      "execution_count": 0,
      "outputs": []
    },
    {
      "cell_type": "code",
      "metadata": {
        "id": "ERbNrHIgozsw",
        "colab_type": "code",
        "colab": {}
      },
      "source": [
        "# declare needed variables\n",
        "gmaps = googlemaps.Client(key = api())\n",
        "df = pd.read_csv('Final.csv')"
      ],
      "execution_count": 0,
      "outputs": []
    },
    {
      "cell_type": "code",
      "metadata": {
        "id": "kO32IJ6ZGxzx",
        "colab_type": "code",
        "colab": {}
      },
      "source": [
        "# df.mask(df.applymap(str).eq('[]')) # to turn empty lists to NaN"
      ],
      "execution_count": 0,
      "outputs": []
    },
    {
      "cell_type": "code",
      "metadata": {
        "id": "bB_HLBwZjI5V",
        "colab_type": "code",
        "colab": {}
      },
      "source": [
        "# initialize an empty list to store output values\n",
        "place_list = []"
      ],
      "execution_count": 0,
      "outputs": []
    },
    {
      "cell_type": "code",
      "metadata": {
        "id": "oPxzNS7kiqrn",
        "colab_type": "code",
        "colab": {}
      },
      "source": [
        "for i in df['place_id']:\n",
        "  try:\n",
        "    i = convert(i)\n",
        "    i = i[0]['place_id']\n",
        "    place_details = gmaps.place(place_id = i)['result']['address_components']\n",
        "    place_list.append(place_details)\n",
        "  except:\n",
        "    place_list.append('None')\n",
        "  continue"
      ],
      "execution_count": 0,
      "outputs": []
    },
    {
      "cell_type": "code",
      "metadata": {
        "id": "WffJWQlCm8sV",
        "colab_type": "code",
        "outputId": "68ac8db3-28fb-423b-a280-fbbe7a052657",
        "colab": {
          "base_uri": "https://localhost:8080/",
          "height": 105
        }
      },
      "source": [
        "df['overall'] = pd.Series(place_list) "
      ],
      "execution_count": 0,
      "outputs": [
        {
          "output_type": "stream",
          "text": [
            "/usr/local/lib/python3.6/dist-packages/ipykernel_launcher.py:1: SettingWithCopyWarning: \n",
            "A value is trying to be set on a copy of a slice from a DataFrame\n",
            "\n",
            "See the caveats in the documentation: http://pandas.pydata.org/pandas-docs/stable/indexing.html#indexing-view-versus-copy\n",
            "  \"\"\"Entry point for launching an IPython kernel.\n"
          ],
          "name": "stderr"
        }
      ]
    },
    {
      "cell_type": "code",
      "metadata": {
        "id": "H7zROR1Eegrd",
        "colab_type": "code",
        "colab": {}
      },
      "source": [
        "pd.DataFrame(df).to_csv('university-names.csv')"
      ],
      "execution_count": 0,
      "outputs": []
    },
    {
      "cell_type": "code",
      "metadata": {
        "id": "Ybwbu1I0qcdJ",
        "colab_type": "code",
        "colab": {}
      },
      "source": [
        "test = df['overall'][:1]"
      ],
      "execution_count": 0,
      "outputs": []
    },
    {
      "cell_type": "code",
      "metadata": {
        "id": "OZI0ESrHwqFZ",
        "colab_type": "code",
        "outputId": "4bec3759-fb57-416a-e903-d4a906736fd6",
        "colab": {
          "base_uri": "https://localhost:8080/",
          "height": 111
        }
      },
      "source": [
        "df[:1]"
      ],
      "execution_count": 0,
      "outputs": [
        {
          "output_type": "execute_result",
          "data": {
            "text/html": [
              "<div>\n",
              "<style scoped>\n",
              "    .dataframe tbody tr th:only-of-type {\n",
              "        vertical-align: middle;\n",
              "    }\n",
              "\n",
              "    .dataframe tbody tr th {\n",
              "        vertical-align: top;\n",
              "    }\n",
              "\n",
              "    .dataframe thead th {\n",
              "        text-align: right;\n",
              "    }\n",
              "</style>\n",
              "<table border=\"1\" class=\"dataframe\">\n",
              "  <thead>\n",
              "    <tr style=\"text-align: right;\">\n",
              "      <th></th>\n",
              "      <th>Unnamed: 0</th>\n",
              "      <th>Unnamed: 0.1</th>\n",
              "      <th>ID</th>\n",
              "      <th>pk</th>\n",
              "      <th>methodical-name</th>\n",
              "      <th>msftname</th>\n",
              "      <th>cc</th>\n",
              "      <th>reference</th>\n",
              "      <th>place_id</th>\n",
              "      <th>overall</th>\n",
              "    </tr>\n",
              "  </thead>\n",
              "  <tbody>\n",
              "    <tr>\n",
              "      <th>0</th>\n",
              "      <td>0</td>\n",
              "      <td>0</td>\n",
              "      <td>1</td>\n",
              "      <td>{18838DFC-7D66-4041-9866-818D947C0744}</td>\n",
              "      <td>New York University</td>\n",
              "      <td>NaN</td>\n",
              "      <td>USA</td>\n",
              "      <td>http://www.nyu.edu/</td>\n",
              "      <td>[{'place_id': 'ChIJwZVT9ZpZwokRBfO1cTF0MNo'}]</td>\n",
              "      <td>[{'long_name': 'New York University', 'short_n...</td>\n",
              "    </tr>\n",
              "  </tbody>\n",
              "</table>\n",
              "</div>"
            ],
            "text/plain": [
              "   Unnamed: 0  ...                                            overall\n",
              "0           0  ...  [{'long_name': 'New York University', 'short_n...\n",
              "\n",
              "[1 rows x 10 columns]"
            ]
          },
          "metadata": {
            "tags": []
          },
          "execution_count": 19
        }
      ]
    },
    {
      "cell_type": "code",
      "metadata": {
        "id": "WLTvCUTcwWHs",
        "colab_type": "code",
        "colab": {}
      },
      "source": [
        "details_list = []"
      ],
      "execution_count": 0,
      "outputs": []
    },
    {
      "cell_type": "code",
      "metadata": {
        "id": "VzHd7EUYsyTc",
        "colab_type": "code",
        "colab": {}
      },
      "source": [
        "for i in df['details']:\n",
        "  i = convert(i)\n",
        "  details_list.append(i)"
      ],
      "execution_count": 0,
      "outputs": []
    },
    {
      "cell_type": "code",
      "metadata": {
        "id": "3M-JUkH6tBxH",
        "colab_type": "code",
        "colab": {}
      },
      "source": [
        "details_list"
      ],
      "execution_count": 0,
      "outputs": []
    },
    {
      "cell_type": "code",
      "metadata": {
        "id": "PHJCY2b-xISM",
        "colab_type": "code",
        "outputId": "74433d38-0b06-4c75-f233-7c9c9a33e59a",
        "colab": {
          "base_uri": "https://localhost:8080/",
          "height": 34
        }
      },
      "source": [
        "df['overall'].dtype"
      ],
      "execution_count": 0,
      "outputs": [
        {
          "output_type": "execute_result",
          "data": {
            "text/plain": [
              "dtype('O')"
            ]
          },
          "metadata": {
            "tags": []
          },
          "execution_count": 22
        }
      ]
    },
    {
      "cell_type": "code",
      "metadata": {
        "id": "NqJnpEaFxooL",
        "colab_type": "code",
        "colab": {}
      },
      "source": [
        "df['details'] = pd.Series(details_list)"
      ],
      "execution_count": 0,
      "outputs": []
    },
    {
      "cell_type": "code",
      "metadata": {
        "id": "RjHYNzikx2IC",
        "colab_type": "code",
        "colab": {}
      },
      "source": [
        "test = df['details'][:1]"
      ],
      "execution_count": 0,
      "outputs": []
    },
    {
      "cell_type": "code",
      "metadata": {
        "id": "IOysmDgKyfmb",
        "colab_type": "code",
        "outputId": "88004725-86cf-4303-d9d8-1d805f26e1fc",
        "colab": {
          "base_uri": "https://localhost:8080/",
          "height": 364
        }
      },
      "source": [
        "df.head()"
      ],
      "execution_count": 0,
      "outputs": [
        {
          "output_type": "execute_result",
          "data": {
            "text/html": [
              "<div>\n",
              "<style scoped>\n",
              "    .dataframe tbody tr th:only-of-type {\n",
              "        vertical-align: middle;\n",
              "    }\n",
              "\n",
              "    .dataframe tbody tr th {\n",
              "        vertical-align: top;\n",
              "    }\n",
              "\n",
              "    .dataframe thead th {\n",
              "        text-align: right;\n",
              "    }\n",
              "</style>\n",
              "<table border=\"1\" class=\"dataframe\">\n",
              "  <thead>\n",
              "    <tr style=\"text-align: right;\">\n",
              "      <th></th>\n",
              "      <th>Unnamed: 0</th>\n",
              "      <th>Unnamed: 0.1</th>\n",
              "      <th>ID</th>\n",
              "      <th>pk</th>\n",
              "      <th>methodical-name</th>\n",
              "      <th>msftname</th>\n",
              "      <th>cc</th>\n",
              "      <th>reference</th>\n",
              "      <th>place_id</th>\n",
              "      <th>details</th>\n",
              "    </tr>\n",
              "  </thead>\n",
              "  <tbody>\n",
              "    <tr>\n",
              "      <th>0</th>\n",
              "      <td>0</td>\n",
              "      <td>0</td>\n",
              "      <td>1</td>\n",
              "      <td>{18838DFC-7D66-4041-9866-818D947C0744}</td>\n",
              "      <td>New York University</td>\n",
              "      <td>NaN</td>\n",
              "      <td>USA</td>\n",
              "      <td>http://www.nyu.edu/</td>\n",
              "      <td>[{'place_id': 'ChIJwZVT9ZpZwokRBfO1cTF0MNo'}]</td>\n",
              "      <td>[{'long_name': 'New York University', 'short_n...</td>\n",
              "    </tr>\n",
              "    <tr>\n",
              "      <th>1</th>\n",
              "      <td>1</td>\n",
              "      <td>1</td>\n",
              "      <td>2</td>\n",
              "      <td>{B84ED02D-81A5-4F6D-9824-92AAEF0D9C36}</td>\n",
              "      <td>Princeton University</td>\n",
              "      <td>NaN</td>\n",
              "      <td>USA</td>\n",
              "      <td>http://www.princeton.edu/</td>\n",
              "      <td>[{'place_id': 'ChIJ6baYzdjmw4kRTwKQ-tZ-ugI'}]</td>\n",
              "      <td>[{'long_name': 'Princeton', 'short_name': 'Pri...</td>\n",
              "    </tr>\n",
              "    <tr>\n",
              "      <th>2</th>\n",
              "      <td>2</td>\n",
              "      <td>2</td>\n",
              "      <td>3</td>\n",
              "      <td>{BF3AE233-2FBC-412A-B8F1-37C2DA30AF08}</td>\n",
              "      <td>Stanford University</td>\n",
              "      <td>Stanford</td>\n",
              "      <td>USA</td>\n",
              "      <td>http://www.stanford.edu/</td>\n",
              "      <td>[{'place_id': 'ChIJneqLZyq7j4ARf2j8RBrwzSk'}]</td>\n",
              "      <td>[{'long_name': '450', 'short_name': '450', 'ty...</td>\n",
              "    </tr>\n",
              "    <tr>\n",
              "      <th>3</th>\n",
              "      <td>3</td>\n",
              "      <td>3</td>\n",
              "      <td>4</td>\n",
              "      <td>{FFF37178-60FF-49FB-988F-7490646ABB18}</td>\n",
              "      <td>University of Wisconsin, Madison</td>\n",
              "      <td>NaN</td>\n",
              "      <td>USA</td>\n",
              "      <td>NaN</td>\n",
              "      <td>[{'place_id': 'ChIJHUh_CpWsB4gRZDpzkeBl4Mk'}]</td>\n",
              "      <td>[{'long_name': 'University of Wisconsin-Madiso...</td>\n",
              "    </tr>\n",
              "    <tr>\n",
              "      <th>4</th>\n",
              "      <td>4</td>\n",
              "      <td>4</td>\n",
              "      <td>5</td>\n",
              "      <td>{52A42ACA-BE20-42BB-A70F-4C064D06D864}</td>\n",
              "      <td>Cornell University</td>\n",
              "      <td>NaN</td>\n",
              "      <td>USA</td>\n",
              "      <td>http://www.cornell.edu/</td>\n",
              "      <td>[{'place_id': 'ChIJndqRYRqC0IkR9J8bgk3mDvU'}]</td>\n",
              "      <td>[{'long_name': 'Ithaca', 'short_name': 'Ithaca...</td>\n",
              "    </tr>\n",
              "  </tbody>\n",
              "</table>\n",
              "</div>"
            ],
            "text/plain": [
              "   Unnamed: 0  ...                                            details\n",
              "0           0  ...  [{'long_name': 'New York University', 'short_n...\n",
              "1           1  ...  [{'long_name': 'Princeton', 'short_name': 'Pri...\n",
              "2           2  ...  [{'long_name': '450', 'short_name': '450', 'ty...\n",
              "3           3  ...  [{'long_name': 'University of Wisconsin-Madiso...\n",
              "4           4  ...  [{'long_name': 'Ithaca', 'short_name': 'Ithaca...\n",
              "\n",
              "[5 rows x 10 columns]"
            ]
          },
          "metadata": {
            "tags": []
          },
          "execution_count": 32
        }
      ]
    },
    {
      "cell_type": "code",
      "metadata": {
        "id": "_fTfD1iSyhYC",
        "colab_type": "code",
        "colab": {}
      },
      "source": [
        ""
      ],
      "execution_count": 0,
      "outputs": []
    }
  ]
}